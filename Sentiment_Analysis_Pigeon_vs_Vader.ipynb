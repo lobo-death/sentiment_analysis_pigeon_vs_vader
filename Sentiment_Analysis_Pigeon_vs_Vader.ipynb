{
  "nbformat": 4,
  "nbformat_minor": 0,
  "metadata": {
    "colab": {
      "name": "Sentiment_Analysis_Pigeon_vs_Vader.ipynb",
      "provenance": []
    },
    "kernelspec": {
      "name": "python3",
      "display_name": "Python 3"
    },
    "language_info": {
      "name": "python"
    }
  },
  "cells": [
    {
      "cell_type": "markdown",
      "source": [
        "# Sentiment Analysis - Pigeon vs Vader"
      ],
      "metadata": {
        "id": "Zup2pRdLRC1K"
      }
    },
    {
      "cell_type": "markdown",
      "source": [
        "## Install Libraries"
      ],
      "metadata": {
        "id": "jBADPoQcxi7w"
      }
    },
    {
      "cell_type": "code",
      "execution_count": null,
      "metadata": {
        "id": "ePXYbV14ptnN"
      },
      "outputs": [],
      "source": [
        "!pip install pigeon-jupyter"
      ]
    },
    {
      "cell_type": "code",
      "source": [
        "!pip install vaderSentiment"
      ],
      "metadata": {
        "id": "nb2TBc4BH493"
      },
      "execution_count": null,
      "outputs": []
    },
    {
      "cell_type": "markdown",
      "source": [
        "## Loading Libraries Packages"
      ],
      "metadata": {
        "id": "n-qB6UWNHGzy"
      }
    },
    {
      "cell_type": "code",
      "source": [
        "from pigeon import annotate"
      ],
      "metadata": {
        "id": "qU4NU8VppzTO"
      },
      "execution_count": null,
      "outputs": []
    },
    {
      "cell_type": "code",
      "source": [
        "from vaderSentiment.vaderSentiment import SentimentIntensityAnalyzer"
      ],
      "metadata": {
        "id": "kKjla77rH9OW"
      },
      "execution_count": null,
      "outputs": []
    },
    {
      "cell_type": "markdown",
      "source": [
        "## Creating a list of sentences (phrases)"
      ],
      "metadata": {
        "id": "DxUV21WMHgNe"
      }
    },
    {
      "cell_type": "code",
      "source": [
        "sentences = [\"I love this movie\", \"I was really disappointed by the book\", \n",
        "   \"I can get this job and do it well\", \"I cannot learn a new language\", \n",
        "   \"I expect to get good grades\", \"I cannot stand him\", \n",
        "   \"I expect everything to turn out well\", \"I am afraid I might fail\", \n",
        "   \"I am full of energy\", \"People do not like me\", \n",
        "   \"I am sure there is good in this situation\", \"I never succeed at anything\", \n",
        "   \"I trust myself to make the best decision\", \"I don’t believe I will get the job\", \n",
        "   \"I am enjoying the work that I am doing\", \"I am not as good as him/her\",\n",
        "   \"I can achieve all my ambitions\", \"I am so tired\",\n",
        "   \"I can finish my work on time\", \"People judge me every time\"]"
      ],
      "metadata": {
        "id": "yFF50t7xS4V3"
      },
      "execution_count": null,
      "outputs": []
    },
    {
      "cell_type": "markdown",
      "source": [
        "## Using the Annotate"
      ],
      "metadata": {
        "id": "Q73w-Nm_Hp_H"
      }
    },
    {
      "cell_type": "code",
      "source": [
        "annotations = annotate(\n",
        "  sentences,\n",
        "  options=['positive', 'negative']\n",
        ")"
      ],
      "metadata": {
        "id": "z6STbDb3p9yV"
      },
      "execution_count": null,
      "outputs": []
    },
    {
      "cell_type": "markdown",
      "source": [
        "## Showing the results"
      ],
      "metadata": {
        "id": "FdWFeUxmHyFM"
      }
    },
    {
      "cell_type": "code",
      "source": [
        "annotations"
      ],
      "metadata": {
        "id": "dCh2uZmYp90e"
      },
      "execution_count": null,
      "outputs": []
    },
    {
      "cell_type": "markdown",
      "source": [
        "## Another approach to the issue using Vader"
      ],
      "metadata": {
        "id": "kBrzi3RIIAlX"
      }
    },
    {
      "cell_type": "code",
      "source": [
        "analyzer = SentimentIntensityAnalyzer()"
      ],
      "metadata": {
        "id": "FwB8SbXYp98f"
      },
      "execution_count": null,
      "outputs": []
    },
    {
      "cell_type": "markdown",
      "source": [
        "## Creating a function"
      ],
      "metadata": {
        "id": "wEwf3F0CIN9m"
      }
    },
    {
      "cell_type": "code",
      "source": [
        "def sentiment_analyzer_scores(sentences):\n",
        "    score = []\n",
        "    for sentence in sentences:\n",
        "        score.append(analyzer.polarity_scores(sentence))\n",
        "    for i in range(len(score)):\n",
        "        print(\"{:-<40} {}\".format(sentences[i], str(score[i])))"
      ],
      "metadata": {
        "id": "raZ7Vc4wSY-w"
      },
      "execution_count": null,
      "outputs": []
    },
    {
      "cell_type": "markdown",
      "source": [
        "## Using the function to work to me"
      ],
      "metadata": {
        "id": "Dlq12_GgISKy"
      }
    },
    {
      "cell_type": "code",
      "source": [
        "sentiment_analyzer_scores(sentences)"
      ],
      "metadata": {
        "id": "jiAopZHCSZA2"
      },
      "execution_count": null,
      "outputs": []
    },
    {
      "cell_type": "code",
      "source": [
        ""
      ],
      "metadata": {
        "id": "hLQMYv9XIsyK"
      },
      "execution_count": null,
      "outputs": []
    },
    {
      "cell_type": "markdown",
      "source": [
        "## References\n",
        "\n",
        "#### https://www.successconsciousness.com/blog/positive-attitude/positive-phrases-and-sentences/\n",
        "\n",
        "#### https://openbase.com/python/pigeon-jupyter"
      ],
      "metadata": {
        "id": "E7c932dtw08O"
      }
    },
    {
      "cell_type": "code",
      "source": [
        ""
      ],
      "metadata": {
        "id": "LYp2A4XAw9Sh"
      },
      "execution_count": null,
      "outputs": []
    }
  ]
}